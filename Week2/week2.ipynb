{
 "cells": [
  {
   "cell_type": "code",
   "execution_count": 1,
   "id": "2680d508",
   "metadata": {
    "_cell_guid": "b1076dfc-b9ad-4769-8c92-a6c4dae69d19",
    "_uuid": "8f2839f25d086af736a60e9eeb907d3b93b6e0e5",
    "execution": {
     "iopub.execute_input": "2025-06-14T18:00:19.037897Z",
     "iopub.status.busy": "2025-06-14T18:00:19.037215Z",
     "iopub.status.idle": "2025-06-14T18:00:22.618419Z",
     "shell.execute_reply": "2025-06-14T18:00:22.617487Z"
    },
    "papermill": {
     "duration": 3.587553,
     "end_time": "2025-06-14T18:00:22.620025",
     "exception": false,
     "start_time": "2025-06-14T18:00:19.032472",
     "status": "completed"
    },
    "tags": []
   },
   "outputs": [
    {
     "name": "stdout",
     "output_type": "stream",
     "text": [
      "/kaggle/input/summer-analytics-mid-hackathon/hacktest.csv\n",
      "/kaggle/input/summer-analytics-mid-hackathon/hacktrain.csv\n"
     ]
    }
   ],
   "source": [
    "# This Python 3 environment comes with many helpful analytics libraries installed\n",
    "# It is defined by the kaggle/python Docker image: https://github.com/kaggle/docker-python\n",
    "# For example, here's several helpful packages to load\n",
    "\n",
    "import numpy as np # linear algebra\n",
    "import pandas as pd # data processing, CSV file I/O (e.g. pd.read_csv)\n",
    "\n",
    "# Input data files are available in the read-only \"../input/\" directory\n",
    "# For example, running this (by clicking run or pressing Shift+Enter) will list all files under the input directory\n",
    "\n",
    "import os\n",
    "for dirname, _, filenames in os.walk('/kaggle/input'):\n",
    "    for filename in filenames:\n",
    "        print(os.path.join(dirname, filename))\n",
    "\n",
    "\n",
    "import pandas as pd\n",
    "import numpy as np\n",
    "import matplotlib.pyplot as plt\n",
    "import seaborn as sns\n",
    "from sklearn.linear_model import LogisticRegression\n",
    "from sklearn.model_selection import train_test_split, cross_val_score\n",
    "from sklearn.impute import SimpleImputer\n",
    "from sklearn.preprocessing import StandardScaler, LabelEncoder\n",
    "from sklearn.metrics import accuracy_score, classification_report, confusion_matrix\n"
   ]
  },
  {
   "cell_type": "code",
   "execution_count": 2,
   "id": "8d8a1420",
   "metadata": {
    "execution": {
     "iopub.execute_input": "2025-06-14T18:00:22.627671Z",
     "iopub.status.busy": "2025-06-14T18:00:22.626883Z",
     "iopub.status.idle": "2025-06-14T18:00:22.631336Z",
     "shell.execute_reply": "2025-06-14T18:00:22.630437Z"
    },
    "papermill": {
     "duration": 0.00915,
     "end_time": "2025-06-14T18:00:22.632506",
     "exception": false,
     "start_time": "2025-06-14T18:00:22.623356",
     "status": "completed"
    },
    "tags": []
   },
   "outputs": [
    {
     "name": "stdout",
     "output_type": "stream",
     "text": [
      "Hello World\n"
     ]
    }
   ],
   "source": [
    "print(\"Hello World\")"
   ]
  },
  {
   "cell_type": "code",
   "execution_count": 3,
   "id": "9a41910b",
   "metadata": {
    "execution": {
     "iopub.execute_input": "2025-06-14T18:00:22.639245Z",
     "iopub.status.busy": "2025-06-14T18:00:22.638771Z",
     "iopub.status.idle": "2025-06-14T18:00:22.724772Z",
     "shell.execute_reply": "2025-06-14T18:00:22.724121Z"
    },
    "papermill": {
     "duration": 0.090845,
     "end_time": "2025-06-14T18:00:22.726351",
     "exception": false,
     "start_time": "2025-06-14T18:00:22.635506",
     "status": "completed"
    },
    "tags": []
   },
   "outputs": [],
   "source": [
    "train_df = pd.read_csv('/kaggle/input/summer-analytics-mid-hackathon/hacktrain.csv')\n",
    "test_df = pd.read_csv('/kaggle/input/summer-analytics-mid-hackathon/hacktest.csv')"
   ]
  },
  {
   "cell_type": "code",
   "execution_count": 4,
   "id": "6b945b47",
   "metadata": {
    "execution": {
     "iopub.execute_input": "2025-06-14T18:00:22.734042Z",
     "iopub.status.busy": "2025-06-14T18:00:22.733556Z",
     "iopub.status.idle": "2025-06-14T18:00:22.766425Z",
     "shell.execute_reply": "2025-06-14T18:00:22.765449Z"
    },
    "papermill": {
     "duration": 0.037988,
     "end_time": "2025-06-14T18:00:22.767712",
     "exception": false,
     "start_time": "2025-06-14T18:00:22.729724",
     "status": "completed"
    },
    "tags": []
   },
   "outputs": [
    {
     "name": "stdout",
     "output_type": "stream",
     "text": [
      "<class 'pandas.core.frame.DataFrame'>\n",
      "RangeIndex: 8000 entries, 0 to 7999\n",
      "Data columns (total 30 columns):\n",
      " #   Column      Non-Null Count  Dtype  \n",
      "---  ------      --------------  -----  \n",
      " 0   Unnamed: 0  8000 non-null   int64  \n",
      " 1   ID          8000 non-null   int64  \n",
      " 2   class       8000 non-null   object \n",
      " 3   20150720_N  7440 non-null   float64\n",
      " 4   20150602_N  6800 non-null   float64\n",
      " 5   20150517_N  7200 non-null   float64\n",
      " 6   20150501_N  7040 non-null   float64\n",
      " 7   20150415_N  7520 non-null   float64\n",
      " 8   20150330_N  6880 non-null   float64\n",
      " 9   20150314_N  7280 non-null   float64\n",
      " 10  20150226_N  6640 non-null   float64\n",
      " 11  20150210_N  7360 non-null   float64\n",
      " 12  20150125_N  6960 non-null   float64\n",
      " 13  20150109_N  7120 non-null   float64\n",
      " 14  20141117_N  6720 non-null   float64\n",
      " 15  20141101_N  7600 non-null   float64\n",
      " 16  20141016_N  6560 non-null   float64\n",
      " 17  20140930_N  7200 non-null   float64\n",
      " 18  20140813_N  7440 non-null   float64\n",
      " 19  20140626_N  6400 non-null   float64\n",
      " 20  20140610_N  7520 non-null   float64\n",
      " 21  20140525_N  7280 non-null   float64\n",
      " 22  20140509_N  7120 non-null   float64\n",
      " 23  20140423_N  6240 non-null   float64\n",
      " 24  20140407_N  7360 non-null   float64\n",
      " 25  20140322_N  6880 non-null   float64\n",
      " 26  20140218_N  6560 non-null   float64\n",
      " 27  20140202_N  7440 non-null   float64\n",
      " 28  20140117_N  6800 non-null   float64\n",
      " 29  20140101_N  7600 non-null   float64\n",
      "dtypes: float64(27), int64(2), object(1)\n",
      "memory usage: 1.8+ MB\n"
     ]
    },
    {
     "data": {
      "text/plain": [
       "Unnamed: 0       0\n",
       "ID               0\n",
       "class            0\n",
       "20150720_N     560\n",
       "20150602_N    1200\n",
       "20150517_N     800\n",
       "20150501_N     960\n",
       "20150415_N     480\n",
       "20150330_N    1120\n",
       "20150314_N     720\n",
       "20150226_N    1360\n",
       "20150210_N     640\n",
       "20150125_N    1040\n",
       "20150109_N     880\n",
       "20141117_N    1280\n",
       "20141101_N     400\n",
       "20141016_N    1440\n",
       "20140930_N     800\n",
       "20140813_N     560\n",
       "20140626_N    1600\n",
       "20140610_N     480\n",
       "20140525_N     720\n",
       "20140509_N     880\n",
       "20140423_N    1760\n",
       "20140407_N     640\n",
       "20140322_N    1120\n",
       "20140218_N    1440\n",
       "20140202_N     560\n",
       "20140117_N    1200\n",
       "20140101_N     400\n",
       "dtype: int64"
      ]
     },
     "execution_count": 4,
     "metadata": {},
     "output_type": "execute_result"
    }
   ],
   "source": [
    "train_df.info()\n",
    "train_df.isnull().sum()"
   ]
  },
  {
   "cell_type": "code",
   "execution_count": 5,
   "id": "37652d9e",
   "metadata": {
    "execution": {
     "iopub.execute_input": "2025-06-14T18:00:22.776014Z",
     "iopub.status.busy": "2025-06-14T18:00:22.775471Z",
     "iopub.status.idle": "2025-06-14T18:00:22.781599Z",
     "shell.execute_reply": "2025-06-14T18:00:22.780905Z"
    },
    "papermill": {
     "duration": 0.011399,
     "end_time": "2025-06-14T18:00:22.782783",
     "exception": false,
     "start_time": "2025-06-14T18:00:22.771384",
     "status": "completed"
    },
    "tags": []
   },
   "outputs": [],
   "source": [
    "le = LabelEncoder()\n",
    "train_df['label'] = le.fit_transform(train_df['class'])  # For model training"
   ]
  },
  {
   "cell_type": "code",
   "execution_count": 6,
   "id": "f152cd73",
   "metadata": {
    "execution": {
     "iopub.execute_input": "2025-06-14T18:00:22.790243Z",
     "iopub.status.busy": "2025-06-14T18:00:22.789991Z",
     "iopub.status.idle": "2025-06-14T18:00:22.793658Z",
     "shell.execute_reply": "2025-06-14T18:00:22.793069Z"
    },
    "papermill": {
     "duration": 0.008682,
     "end_time": "2025-06-14T18:00:22.794880",
     "exception": false,
     "start_time": "2025-06-14T18:00:22.786198",
     "status": "completed"
    },
    "tags": []
   },
   "outputs": [],
   "source": [
    "features = [col for col in train_df.columns if '_N' in col]"
   ]
  },
  {
   "cell_type": "code",
   "execution_count": 7,
   "id": "498a9388",
   "metadata": {
    "execution": {
     "iopub.execute_input": "2025-06-14T18:00:22.802293Z",
     "iopub.status.busy": "2025-06-14T18:00:22.801668Z",
     "iopub.status.idle": "2025-06-14T18:00:22.828518Z",
     "shell.execute_reply": "2025-06-14T18:00:22.827661Z"
    },
    "papermill": {
     "duration": 0.031908,
     "end_time": "2025-06-14T18:00:22.829955",
     "exception": false,
     "start_time": "2025-06-14T18:00:22.798047",
     "status": "completed"
    },
    "tags": []
   },
   "outputs": [],
   "source": [
    "imputer = SimpleImputer(strategy='mean')\n",
    "X = imputer.fit_transform(train_df[features])\n",
    "X_test = imputer.transform(test_df[features])  # We'll use this later\n"
   ]
  },
  {
   "cell_type": "code",
   "execution_count": 8,
   "id": "e47414ab",
   "metadata": {
    "execution": {
     "iopub.execute_input": "2025-06-14T18:00:22.837992Z",
     "iopub.status.busy": "2025-06-14T18:00:22.837363Z",
     "iopub.status.idle": "2025-06-14T18:00:22.858584Z",
     "shell.execute_reply": "2025-06-14T18:00:22.857767Z"
    },
    "papermill": {
     "duration": 0.026709,
     "end_time": "2025-06-14T18:00:22.860209",
     "exception": false,
     "start_time": "2025-06-14T18:00:22.833500",
     "status": "completed"
    },
    "tags": []
   },
   "outputs": [],
   "source": [
    "scaler = StandardScaler()\n",
    "X_scaled = scaler.fit_transform(X)\n",
    "X_test_scaled = scaler.transform(X_test)\n"
   ]
  },
  {
   "cell_type": "code",
   "execution_count": 9,
   "id": "41acb9b2",
   "metadata": {
    "execution": {
     "iopub.execute_input": "2025-06-14T18:00:22.869207Z",
     "iopub.status.busy": "2025-06-14T18:00:22.868693Z",
     "iopub.status.idle": "2025-06-14T18:00:22.879984Z",
     "shell.execute_reply": "2025-06-14T18:00:22.879201Z"
    },
    "papermill": {
     "duration": 0.017024,
     "end_time": "2025-06-14T18:00:22.881423",
     "exception": false,
     "start_time": "2025-06-14T18:00:22.864399",
     "status": "completed"
    },
    "tags": []
   },
   "outputs": [],
   "source": [
    "y = train_df['label']\n",
    "X_train, X_val, y_train, y_val = train_test_split(X_scaled, y, test_size=0.2, stratify=y, random_state=42)\n"
   ]
  },
  {
   "cell_type": "code",
   "execution_count": 10,
   "id": "4a0fe6cc",
   "metadata": {
    "execution": {
     "iopub.execute_input": "2025-06-14T18:00:22.888812Z",
     "iopub.status.busy": "2025-06-14T18:00:22.888290Z",
     "iopub.status.idle": "2025-06-14T18:00:23.501913Z",
     "shell.execute_reply": "2025-06-14T18:00:23.499626Z"
    },
    "papermill": {
     "duration": 0.619714,
     "end_time": "2025-06-14T18:00:23.504301",
     "exception": false,
     "start_time": "2025-06-14T18:00:22.884587",
     "status": "completed"
    },
    "tags": []
   },
   "outputs": [
    {
     "data": {
      "text/html": [
       "<style>#sk-container-id-1 {color: black;background-color: white;}#sk-container-id-1 pre{padding: 0;}#sk-container-id-1 div.sk-toggleable {background-color: white;}#sk-container-id-1 label.sk-toggleable__label {cursor: pointer;display: block;width: 100%;margin-bottom: 0;padding: 0.3em;box-sizing: border-box;text-align: center;}#sk-container-id-1 label.sk-toggleable__label-arrow:before {content: \"▸\";float: left;margin-right: 0.25em;color: #696969;}#sk-container-id-1 label.sk-toggleable__label-arrow:hover:before {color: black;}#sk-container-id-1 div.sk-estimator:hover label.sk-toggleable__label-arrow:before {color: black;}#sk-container-id-1 div.sk-toggleable__content {max-height: 0;max-width: 0;overflow: hidden;text-align: left;background-color: #f0f8ff;}#sk-container-id-1 div.sk-toggleable__content pre {margin: 0.2em;color: black;border-radius: 0.25em;background-color: #f0f8ff;}#sk-container-id-1 input.sk-toggleable__control:checked~div.sk-toggleable__content {max-height: 200px;max-width: 100%;overflow: auto;}#sk-container-id-1 input.sk-toggleable__control:checked~label.sk-toggleable__label-arrow:before {content: \"▾\";}#sk-container-id-1 div.sk-estimator input.sk-toggleable__control:checked~label.sk-toggleable__label {background-color: #d4ebff;}#sk-container-id-1 div.sk-label input.sk-toggleable__control:checked~label.sk-toggleable__label {background-color: #d4ebff;}#sk-container-id-1 input.sk-hidden--visually {border: 0;clip: rect(1px 1px 1px 1px);clip: rect(1px, 1px, 1px, 1px);height: 1px;margin: -1px;overflow: hidden;padding: 0;position: absolute;width: 1px;}#sk-container-id-1 div.sk-estimator {font-family: monospace;background-color: #f0f8ff;border: 1px dotted black;border-radius: 0.25em;box-sizing: border-box;margin-bottom: 0.5em;}#sk-container-id-1 div.sk-estimator:hover {background-color: #d4ebff;}#sk-container-id-1 div.sk-parallel-item::after {content: \"\";width: 100%;border-bottom: 1px solid gray;flex-grow: 1;}#sk-container-id-1 div.sk-label:hover label.sk-toggleable__label {background-color: #d4ebff;}#sk-container-id-1 div.sk-serial::before {content: \"\";position: absolute;border-left: 1px solid gray;box-sizing: border-box;top: 0;bottom: 0;left: 50%;z-index: 0;}#sk-container-id-1 div.sk-serial {display: flex;flex-direction: column;align-items: center;background-color: white;padding-right: 0.2em;padding-left: 0.2em;position: relative;}#sk-container-id-1 div.sk-item {position: relative;z-index: 1;}#sk-container-id-1 div.sk-parallel {display: flex;align-items: stretch;justify-content: center;background-color: white;position: relative;}#sk-container-id-1 div.sk-item::before, #sk-container-id-1 div.sk-parallel-item::before {content: \"\";position: absolute;border-left: 1px solid gray;box-sizing: border-box;top: 0;bottom: 0;left: 50%;z-index: -1;}#sk-container-id-1 div.sk-parallel-item {display: flex;flex-direction: column;z-index: 1;position: relative;background-color: white;}#sk-container-id-1 div.sk-parallel-item:first-child::after {align-self: flex-end;width: 50%;}#sk-container-id-1 div.sk-parallel-item:last-child::after {align-self: flex-start;width: 50%;}#sk-container-id-1 div.sk-parallel-item:only-child::after {width: 0;}#sk-container-id-1 div.sk-dashed-wrapped {border: 1px dashed gray;margin: 0 0.4em 0.5em 0.4em;box-sizing: border-box;padding-bottom: 0.4em;background-color: white;}#sk-container-id-1 div.sk-label label {font-family: monospace;font-weight: bold;display: inline-block;line-height: 1.2em;}#sk-container-id-1 div.sk-label-container {text-align: center;}#sk-container-id-1 div.sk-container {/* jupyter's `normalize.less` sets `[hidden] { display: none; }` but bootstrap.min.css set `[hidden] { display: none !important; }` so we also need the `!important` here to be able to override the default hidden behavior on the sphinx rendered scikit-learn.org. See: https://github.com/scikit-learn/scikit-learn/issues/21755 */display: inline-block !important;position: relative;}#sk-container-id-1 div.sk-text-repr-fallback {display: none;}</style><div id=\"sk-container-id-1\" class=\"sk-top-container\"><div class=\"sk-text-repr-fallback\"><pre>LogisticRegression(max_iter=1000, multi_class=&#x27;multinomial&#x27;)</pre><b>In a Jupyter environment, please rerun this cell to show the HTML representation or trust the notebook. <br />On GitHub, the HTML representation is unable to render, please try loading this page with nbviewer.org.</b></div><div class=\"sk-container\" hidden><div class=\"sk-item\"><div class=\"sk-estimator sk-toggleable\"><input class=\"sk-toggleable__control sk-hidden--visually\" id=\"sk-estimator-id-1\" type=\"checkbox\" checked><label for=\"sk-estimator-id-1\" class=\"sk-toggleable__label sk-toggleable__label-arrow\">LogisticRegression</label><div class=\"sk-toggleable__content\"><pre>LogisticRegression(max_iter=1000, multi_class=&#x27;multinomial&#x27;)</pre></div></div></div></div></div>"
      ],
      "text/plain": [
       "LogisticRegression(max_iter=1000, multi_class='multinomial')"
      ]
     },
     "execution_count": 10,
     "metadata": {},
     "output_type": "execute_result"
    }
   ],
   "source": [
    "model = LogisticRegression(max_iter=1000, multi_class='multinomial')\n",
    "model.fit(X_train, y_train)\n"
   ]
  },
  {
   "cell_type": "code",
   "execution_count": 11,
   "id": "6497dc51",
   "metadata": {
    "execution": {
     "iopub.execute_input": "2025-06-14T18:00:23.532033Z",
     "iopub.status.busy": "2025-06-14T18:00:23.531697Z",
     "iopub.status.idle": "2025-06-14T18:00:23.582934Z",
     "shell.execute_reply": "2025-06-14T18:00:23.582201Z"
    },
    "papermill": {
     "duration": 0.070356,
     "end_time": "2025-06-14T18:00:23.584516",
     "exception": false,
     "start_time": "2025-06-14T18:00:23.514160",
     "status": "completed"
    },
    "tags": []
   },
   "outputs": [
    {
     "name": "stdout",
     "output_type": "stream",
     "text": [
      "Validation Accuracy: 0.8675\n",
      "Confusion Matrix:\n",
      " [[  65   96    1    5    0    1]\n",
      " [  29 1191    8    3    0    1]\n",
      " [   1   23    6    9    0    0]\n",
      " [   7   12    1  114    0    0]\n",
      " [   1    4    0    0    1    0]\n",
      " [   1    2    0    7    0   11]]\n",
      "Classification Report:\n",
      "               precision    recall  f1-score   support\n",
      "\n",
      "        farm       0.62      0.39      0.48       168\n",
      "      forest       0.90      0.97      0.93      1232\n",
      "       grass       0.38      0.15      0.22        39\n",
      "  impervious       0.83      0.85      0.84       134\n",
      "     orchard       1.00      0.17      0.29         6\n",
      "       water       0.85      0.52      0.65        21\n",
      "\n",
      "    accuracy                           0.87      1600\n",
      "   macro avg       0.76      0.51      0.57      1600\n",
      "weighted avg       0.85      0.87      0.85      1600\n",
      "\n"
     ]
    }
   ],
   "source": [
    "y_val_pred = model.predict(X_val)\n",
    "\n",
    "print(\"Validation Accuracy:\", accuracy_score(y_val, y_val_pred))\n",
    "print(\"Confusion Matrix:\\n\", confusion_matrix(y_val, y_val_pred))\n",
    "print(\"Classification Report:\\n\", classification_report(y_val, y_val_pred, target_names=le.classes_))\n"
   ]
  },
  {
   "cell_type": "code",
   "execution_count": 12,
   "id": "13675832",
   "metadata": {
    "execution": {
     "iopub.execute_input": "2025-06-14T18:00:23.593436Z",
     "iopub.status.busy": "2025-06-14T18:00:23.593159Z",
     "iopub.status.idle": "2025-06-14T18:00:23.601214Z",
     "shell.execute_reply": "2025-06-14T18:00:23.598291Z"
    },
    "papermill": {
     "duration": 0.014659,
     "end_time": "2025-06-14T18:00:23.603308",
     "exception": false,
     "start_time": "2025-06-14T18:00:23.588649",
     "status": "completed"
    },
    "tags": []
   },
   "outputs": [],
   "source": [
    "test_preds = model.predict(X_test_scaled)\n",
    "test_classes = le.inverse_transform(test_preds)\n"
   ]
  },
  {
   "cell_type": "code",
   "execution_count": 13,
   "id": "c2c6ded5",
   "metadata": {
    "execution": {
     "iopub.execute_input": "2025-06-14T18:00:23.617195Z",
     "iopub.status.busy": "2025-06-14T18:00:23.616608Z",
     "iopub.status.idle": "2025-06-14T18:00:23.629486Z",
     "shell.execute_reply": "2025-06-14T18:00:23.628880Z"
    },
    "papermill": {
     "duration": 0.020025,
     "end_time": "2025-06-14T18:00:23.630774",
     "exception": false,
     "start_time": "2025-06-14T18:00:23.610749",
     "status": "completed"
    },
    "tags": []
   },
   "outputs": [],
   "source": [
    "submission = pd.DataFrame({\n",
    "    'ID': test_df['ID'],\n",
    "    'class': test_classes\n",
    "})\n",
    "submission.to_csv('submission.csv', index=False)\n"
   ]
  },
  {
   "cell_type": "code",
   "execution_count": 14,
   "id": "cda4a7a7",
   "metadata": {
    "execution": {
     "iopub.execute_input": "2025-06-14T18:00:23.638953Z",
     "iopub.status.busy": "2025-06-14T18:00:23.638438Z",
     "iopub.status.idle": "2025-06-14T18:00:23.642823Z",
     "shell.execute_reply": "2025-06-14T18:00:23.642245Z"
    },
    "papermill": {
     "duration": 0.009654,
     "end_time": "2025-06-14T18:00:23.644020",
     "exception": false,
     "start_time": "2025-06-14T18:00:23.634366",
     "status": "completed"
    },
    "tags": []
   },
   "outputs": [],
   "source": [
    "# Drop 'Unnamed: 0' if it exists in test_df\n",
    "if 'Unnamed: 0' in test_df.columns:\n",
    "    test_df = test_df.drop(columns=['Unnamed: 0'])\n"
   ]
  },
  {
   "cell_type": "code",
   "execution_count": 15,
   "id": "9e1afdb6",
   "metadata": {
    "execution": {
     "iopub.execute_input": "2025-06-14T18:00:23.651902Z",
     "iopub.status.busy": "2025-06-14T18:00:23.651413Z",
     "iopub.status.idle": "2025-06-14T18:00:23.660410Z",
     "shell.execute_reply": "2025-06-14T18:00:23.659803Z"
    },
    "papermill": {
     "duration": 0.014186,
     "end_time": "2025-06-14T18:00:23.661682",
     "exception": false,
     "start_time": "2025-06-14T18:00:23.647496",
     "status": "completed"
    },
    "tags": []
   },
   "outputs": [],
   "source": [
    "X_test = test_df.drop(columns=['ID'])\n",
    "X_test_imputed = imputer.transform(X_test)\n",
    "X_test_scaled = scaler.transform(X_test_imputed)\n",
    "\n",
    "test_preds = model.predict(X_test_scaled)\n",
    "test_classes = le.inverse_transform(test_preds)\n"
   ]
  },
  {
   "cell_type": "code",
   "execution_count": 16,
   "id": "43da6a0c",
   "metadata": {
    "execution": {
     "iopub.execute_input": "2025-06-14T18:00:23.669582Z",
     "iopub.status.busy": "2025-06-14T18:00:23.669337Z",
     "iopub.status.idle": "2025-06-14T18:00:23.674471Z",
     "shell.execute_reply": "2025-06-14T18:00:23.673833Z"
    },
    "papermill": {
     "duration": 0.010459,
     "end_time": "2025-06-14T18:00:23.675637",
     "exception": false,
     "start_time": "2025-06-14T18:00:23.665178",
     "status": "completed"
    },
    "tags": []
   },
   "outputs": [
    {
     "data": {
      "text/plain": [
       "'/kaggle/working/submission.csv'"
      ]
     },
     "execution_count": 16,
     "metadata": {},
     "output_type": "execute_result"
    }
   ],
   "source": [
    "import shutil\n",
    "shutil.move(\"submission.csv\", \"/kaggle/working/submission.csv\")\n"
   ]
  }
 ],
 "metadata": {
  "kaggle": {
   "accelerator": "none",
   "dataSources": [
    {
     "databundleVersionId": 12585144,
     "sourceId": 104491,
     "sourceType": "competition"
    }
   ],
   "dockerImageVersionId": 31040,
   "isGpuEnabled": false,
   "isInternetEnabled": true,
   "language": "python",
   "sourceType": "notebook"
  },
  "kernelspec": {
   "display_name": "Python 3",
   "language": "python",
   "name": "python3"
  },
  "language_info": {
   "codemirror_mode": {
    "name": "ipython",
    "version": 3
   },
   "file_extension": ".py",
   "mimetype": "text/x-python",
   "name": "python",
   "nbconvert_exporter": "python",
   "pygments_lexer": "ipython3",
   "version": "3.11.11"
  },
  "papermill": {
   "default_parameters": {},
   "duration": 9.491438,
   "end_time": "2025-06-14T18:00:24.297663",
   "environment_variables": {},
   "exception": null,
   "input_path": "__notebook__.ipynb",
   "output_path": "__notebook__.ipynb",
   "parameters": {},
   "start_time": "2025-06-14T18:00:14.806225",
   "version": "2.6.0"
  }
 },
 "nbformat": 4,
 "nbformat_minor": 5
}
